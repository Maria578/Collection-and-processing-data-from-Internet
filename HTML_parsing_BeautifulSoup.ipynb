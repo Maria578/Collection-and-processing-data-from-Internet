{
 "cells": [
  {
   "cell_type": "markdown",
   "metadata": {},
   "source": [
    "## Задание\n",
    "\n",
    "Необходимо собрать информацию о вакансиях на вводимую должность (используем input или через аргументы) с сайта superjob.ru \n",
    "и hh.ru. Приложение должно анализировать несколько страниц сайта(также вводим через input или аргументы). Получившийся список должен содержать в себе минимум:\n",
    "\n",
    "*Наименование вакансии\n",
    "\n",
    "*Предлагаемую зарплату (отдельно мин. отдельно макс. и отдельно валюту)\n",
    "\n",
    "*Ссылку на саму вакансию\n",
    "\n",
    "*Сайт откуда собрана вакансия\n",
    "\n",
    "По своему желанию можно добавить еще работодателя и расположение. \n",
    "Данная структура должна быть одинаковая для вакансий с обоих сайтов. \n",
    "Общий результат можно вывести с помощью dataFrame через pandas."
   ]
  },
  {
   "cell_type": "code",
   "execution_count": null,
   "metadata": {},
   "outputs": [],
   "source": [
    "import requests\n",
    "import json\n",
    "from pprint import pprint\n",
    "from bs4 import BeautifulSoup as bs\n",
    "from lxml import html\n",
    "import pandas as pd\n",
    "import re"
   ]
  },
  {
   "cell_type": "code",
   "execution_count": 2,
   "metadata": {},
   "outputs": [],
   "source": [
    "request = 'python'"
   ]
  },
  {
   "cell_type": "code",
   "execution_count": 55,
   "metadata": {},
   "outputs": [],
   "source": [
    "page = 0\n",
    "max_page = 0"
   ]
  },
  {
   "cell_type": "code",
   "execution_count": 6,
   "metadata": {},
   "outputs": [],
   "source": [
    "header = {'User-Agent': 'Mozilla/5.0 (Windows NT 10.0; Win64; x64) AppleWebKit/537.36 (KHTML, like Gecko) Chrome/80.0.3987.163 Safari/537.36'}\n"
   ]
  },
  {
   "cell_type": "code",
   "execution_count": 56,
   "metadata": {},
   "outputs": [],
   "source": [
    "vacancy_link_data = []\n",
    "vacancy_name_data = []\n",
    "vacancy_minsalary_data = []\n",
    "vacancy_maxsalary_data = []\n",
    "vacancy_currancy_data = []\n",
    "vacancy_salary_data = []"
   ]
  },
  {
   "cell_type": "code",
   "execution_count": 57,
   "metadata": {},
   "outputs": [],
   "source": [
    "while max_page != 40:\n",
    "    link = f'https://hh.ru/search/vacancy?area=1&st=searchVacancy&text={request}&page={page}'\n",
    "    response = requests.get(link, headers=header).text\n",
    "    soup = bs(response,'lxml')\n",
    "    vacancy_block = soup.find_all('div',{'class':'vacancy-serp'})[0]\n",
    "    vacancy_list = vacancy_block.find_all('div',{'class':'vacancy-serp-item'})\n",
    "    page += 1\n",
    "    max_page += 1\n",
    "    for vacancy in range(len(vacancy_list)):\n",
    "        name1 = vacancy_block.find_all('span',{'class':'g-user-content'})[vacancy]\n",
    "        name2 = name1.findChild()\n",
    "        vacancy_name = name2.getText()\n",
    "        vacancy_name_data.append(vacancy_name)\n",
    "        vacancy_data={}\n",
    "        vacancy_link1 = vacancy_block.find_all('span',{'class':'g-user-content'})[vacancy]\n",
    "        vacancy_link = vacancy_link1.find('a')['href']\n",
    "        vacancy_link_data.append(vacancy_link)\n",
    "        salary1 = vacancy_block.find_all('div',{'class':'vacancy-serp-item__sidebar'})[vacancy]\n",
    "        salary2 = str(salary1.findChild(recursive=False))\n",
    "        salary3 = re.sub(r'\\<[^>]*\\>', '', salary2)\n",
    "\n",
    "        if salary3 == None:\n",
    "            salary = 0\n",
    "        else:\n",
    "            salary = salary3\n",
    "        vacancy_salary_data.append(salary)    "
   ]
  },
  {
   "cell_type": "code",
   "execution_count": 58,
   "metadata": {},
   "outputs": [
    {
     "data": {
      "text/plain": [
       "2010"
      ]
     },
     "execution_count": 58,
     "metadata": {},
     "output_type": "execute_result"
    }
   ],
   "source": [
    "len(vacancy_salary_data)\n",
    "        "
   ]
  },
  {
   "cell_type": "code",
   "execution_count": 59,
   "metadata": {},
   "outputs": [
    {
     "data": {
      "text/plain": [
       "50"
      ]
     },
     "execution_count": 59,
     "metadata": {},
     "output_type": "execute_result"
    }
   ],
   "source": [
    "len(vacancy_list)"
   ]
  },
  {
   "cell_type": "code",
   "execution_count": 60,
   "metadata": {},
   "outputs": [],
   "source": [
    "data = {'Vacancy Name': vacancy_name_data, 'Link': vacancy_link_data, 'Salary': vacancy_salary_data, 'Source': 'hh'}\n",
    "df = pd.DataFrame(data)"
   ]
  },
  {
   "cell_type": "code",
   "execution_count": 61,
   "metadata": {
    "scrolled": true
   },
   "outputs": [
    {
     "data": {
      "text/html": [
       "<div>\n",
       "<style scoped>\n",
       "    .dataframe tbody tr th:only-of-type {\n",
       "        vertical-align: middle;\n",
       "    }\n",
       "\n",
       "    .dataframe tbody tr th {\n",
       "        vertical-align: top;\n",
       "    }\n",
       "\n",
       "    .dataframe thead th {\n",
       "        text-align: right;\n",
       "    }\n",
       "</style>\n",
       "<table border=\"1\" class=\"dataframe\">\n",
       "  <thead>\n",
       "    <tr style=\"text-align: right;\">\n",
       "      <th></th>\n",
       "      <th>Vacancy Name</th>\n",
       "      <th>Link</th>\n",
       "      <th>Salary</th>\n",
       "      <th>Source</th>\n",
       "    </tr>\n",
       "  </thead>\n",
       "  <tbody>\n",
       "    <tr>\n",
       "      <th>0</th>\n",
       "      <td>Инженер-программист</td>\n",
       "      <td>https://hh.ru/vacancy/36349898?query=python</td>\n",
       "      <td>120 000-140 000 руб.</td>\n",
       "      <td>hh</td>\n",
       "    </tr>\n",
       "    <tr>\n",
       "      <th>1</th>\n",
       "      <td>Программист Python</td>\n",
       "      <td>https://hh.ru/vacancy/36615032?query=python</td>\n",
       "      <td>None</td>\n",
       "      <td>hh</td>\n",
       "    </tr>\n",
       "    <tr>\n",
       "      <th>2</th>\n",
       "      <td>Golang разработчик (Backend)</td>\n",
       "      <td>https://hh.ru/vacancy/36631687?query=python</td>\n",
       "      <td>170 000-250 000 руб.</td>\n",
       "      <td>hh</td>\n",
       "    </tr>\n",
       "    <tr>\n",
       "      <th>3</th>\n",
       "      <td>Реверс инженер мобильных приложений</td>\n",
       "      <td>https://hh.ru/vacancy/36615038?query=python</td>\n",
       "      <td></td>\n",
       "      <td>hh</td>\n",
       "    </tr>\n",
       "    <tr>\n",
       "      <th>4</th>\n",
       "      <td>Старший программист</td>\n",
       "      <td>https://hh.ru/vacancy/36348947?query=python</td>\n",
       "      <td>230 000-250 000 руб.</td>\n",
       "      <td>hh</td>\n",
       "    </tr>\n",
       "  </tbody>\n",
       "</table>\n",
       "</div>"
      ],
      "text/plain": [
       "                          Vacancy Name  \\\n",
       "0                  Инженер-программист   \n",
       "1                   Программист Python   \n",
       "2         Golang разработчик (Backend)   \n",
       "3  Реверс инженер мобильных приложений   \n",
       "4                  Старший программист   \n",
       "\n",
       "                                          Link                Salary Source  \n",
       "0  https://hh.ru/vacancy/36349898?query=python  120 000-140 000 руб.     hh  \n",
       "1  https://hh.ru/vacancy/36615032?query=python                  None     hh  \n",
       "2  https://hh.ru/vacancy/36631687?query=python  170 000-250 000 руб.     hh  \n",
       "3  https://hh.ru/vacancy/36615038?query=python                           hh  \n",
       "4  https://hh.ru/vacancy/36348947?query=python  230 000-250 000 руб.     hh  "
      ]
     },
     "execution_count": 61,
     "metadata": {},
     "output_type": "execute_result"
    }
   ],
   "source": [
    "df.head()"
   ]
  },
  {
   "cell_type": "code",
   "execution_count": null,
   "metadata": {},
   "outputs": [],
   "source": []
  },
  {
   "cell_type": "code",
   "execution_count": null,
   "metadata": {},
   "outputs": [],
   "source": []
  }
 ],
 "metadata": {
  "kernelspec": {
   "display_name": "Python 3",
   "language": "python",
   "name": "python3"
  },
  "language_info": {
   "codemirror_mode": {
    "name": "ipython",
    "version": 3
   },
   "file_extension": ".py",
   "mimetype": "text/x-python",
   "name": "python",
   "nbconvert_exporter": "python",
   "pygments_lexer": "ipython3",
   "version": "3.7.3"
  }
 },
 "nbformat": 4,
 "nbformat_minor": 2
}
