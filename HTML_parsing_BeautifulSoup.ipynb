{
 "cells": [
  {
   "cell_type": "markdown",
   "metadata": {},
   "source": [
    "## Задание\n",
    "\n",
    "Необходимо собрать информацию о вакансиях на вводимую должность (используем input или через аргументы) с сайта superjob.ru \n",
    "и hh.ru. Приложение должно анализировать несколько страниц сайта(также вводим через input или аргументы). Получившийся список должен содержать в себе минимум:\n",
    "\n",
    "*Наименование вакансии\n",
    "\n",
    "*Предлагаемую зарплату (отдельно мин. отдельно макс. и отдельно валюту)\n",
    "\n",
    "*Ссылку на саму вакансию\n",
    "\n",
    "*Сайт откуда собрана вакансия\n",
    "\n",
    "По своему желанию можно добавить еще работодателя и расположение. \n",
    "Данная структура должна быть одинаковая для вакансий с обоих сайтов. \n",
    "Общий результат можно вывести с помощью dataFrame через pandas."
   ]
  },
  {
   "cell_type": "code",
   "execution_count": 13,
   "metadata": {},
   "outputs": [],
   "source": [
    "import requests\n",
    "import json\n",
    "from pprint import pprint\n",
    "from bs4 import BeautifulSoup as bs\n",
    "from lxml import html\n",
    "import pandas as pd\n",
    "import re"
   ]
  },
  {
   "cell_type": "code",
   "execution_count": 14,
   "metadata": {},
   "outputs": [],
   "source": [
    "request = 'python'"
   ]
  },
  {
   "cell_type": "code",
   "execution_count": 27,
   "metadata": {},
   "outputs": [],
   "source": [
    "page = 0\n",
    "max_page = 0"
   ]
  },
  {
   "cell_type": "code",
   "execution_count": 28,
   "metadata": {},
   "outputs": [],
   "source": [
    "header = {'User-Agent': 'Mozilla/5.0 (Windows NT 10.0; Win64; x64) AppleWebKit/537.36 (KHTML, like Gecko) Chrome/80.0.3987.163 Safari/537.36'}\n"
   ]
  },
  {
   "cell_type": "code",
   "execution_count": 29,
   "metadata": {},
   "outputs": [],
   "source": [
    "vacancy_link_data = []\n",
    "vacancy_name_data = []\n",
    "vacancy_minsalary_data = []\n",
    "vacancy_maxsalary_data = []\n",
    "vacancy_currancy_data = []\n",
    "vacancy_salary_data = []"
   ]
  },
  {
   "cell_type": "code",
   "execution_count": 30,
   "metadata": {},
   "outputs": [],
   "source": [
    "while max_page != 40:\n",
    "    link = f'https://hh.ru/search/vacancy?area=1&st=searchVacancy&text={request}&page={page}'\n",
    "    response = requests.get(link, headers=header).text\n",
    "    soup = bs(response,'lxml')\n",
    "    vacancy_block = soup.find_all('div',{'class':'vacancy-serp'})[0]\n",
    "    vacancy_list = vacancy_block.find_all('div',{'class':'vacancy-serp-item'})\n",
    "    page += 1\n",
    "    max_page += 1\n",
    "    for vacancy in range(len(vacancy_list)):\n",
    "        name1 = vacancy_block.find_all('span',{'class':'g-user-content'})[vacancy]\n",
    "        name2 = name1.findChild()\n",
    "        vacancy_name = name2.getText()\n",
    "        vacancy_name_data.append(vacancy_name)\n",
    "        vacancy_data={}\n",
    "        vacancy_link1 = vacancy_block.find_all('span',{'class':'g-user-content'})[vacancy]\n",
    "        vacancy_link = vacancy_link1.find('a')['href']\n",
    "        vacancy_link_data.append(vacancy_link)\n",
    "        salary1 = vacancy_block.find_all('div',{'class':'vacancy-serp-item__sidebar'})[vacancy]\n",
    "        salary2 = str(salary1.findChild(recursive=False))\n",
    "        salary3 = re.sub(r'\\<[^>]*\\>', '', salary2)\n",
    "\n",
    "        if salary3 == None:\n",
    "            salary = 0\n",
    "        else:\n",
    "            salary = salary3\n",
    "            \n",
    "        max_salary = 0\n",
    "        min_salary = 0\n",
    "        currency_salary = \"NaN\"\n",
    "\n",
    "        if len(salary) > 1:\n",
    "            salary_split = salary.split(\" \")\n",
    "\n",
    "            if salary_split[0] == 'от':\n",
    "                max_salary = None\n",
    "                min_salary = int(re.sub('\\D',\"\",salary_split[1]))\n",
    "                currency_salary = salary_split[2].replace(\".\",\"\")  \n",
    "\n",
    "            elif salary_split[0] == 'до':\n",
    "                min_salary = None\n",
    "                max_salary = int(re.sub('\\D',\"\",salary_split[1]))\n",
    "                currency_salary = salary_split[2].replace(\".\",\"\")              \n",
    "\n",
    "            else:\n",
    "                salary2split = salary_split[0].split(\"-\")\n",
    "                if len(salary2split) > 1:\n",
    "                    min_salary = int(re.sub('\\D',\"\",salary2split[0]))\n",
    "                    max_salary = int(re.sub('\\D',\"\",salary2split[1]))\n",
    "                    currency_salary = salary_split[1].replace(\".\",\"\")   \n",
    "\n",
    "        vacancy_minsalary_data.append(min_salary)\n",
    "        vacancy_maxsalary_data.append(max_salary)\n",
    "        vacancy_currancy_data.append(currency_salary)            \n",
    "            \n",
    "            \n",
    "        vacancy_salary_data.append(salary)    "
   ]
  },
  {
   "cell_type": "code",
   "execution_count": 19,
   "metadata": {},
   "outputs": [
    {
     "data": {
      "text/plain": [
       "2000"
      ]
     },
     "execution_count": 19,
     "metadata": {},
     "output_type": "execute_result"
    }
   ],
   "source": [
    "len(vacancy_salary_data)\n",
    "        "
   ]
  },
  {
   "cell_type": "code",
   "execution_count": 20,
   "metadata": {},
   "outputs": [
    {
     "data": {
      "text/plain": [
       "50"
      ]
     },
     "execution_count": 20,
     "metadata": {},
     "output_type": "execute_result"
    }
   ],
   "source": [
    "len(vacancy_list)"
   ]
  },
  {
   "cell_type": "code",
   "execution_count": 31,
   "metadata": {},
   "outputs": [],
   "source": [
    "data = {'Vacancy Name': vacancy_name_data, 'Link': vacancy_link_data, 'Min_salary': vacancy_minsalary_data, 'Max_salary': vacancy_maxsalary_data, 'Currancy': vacancy_currancy_data,'Source': 'hh'}\n",
    "df = pd.DataFrame(data)"
   ]
  },
  {
   "cell_type": "code",
   "execution_count": 32,
   "metadata": {
    "scrolled": true
   },
   "outputs": [
    {
     "data": {
      "text/html": [
       "<div>\n",
       "<style scoped>\n",
       "    .dataframe tbody tr th:only-of-type {\n",
       "        vertical-align: middle;\n",
       "    }\n",
       "\n",
       "    .dataframe tbody tr th {\n",
       "        vertical-align: top;\n",
       "    }\n",
       "\n",
       "    .dataframe thead th {\n",
       "        text-align: right;\n",
       "    }\n",
       "</style>\n",
       "<table border=\"1\" class=\"dataframe\">\n",
       "  <thead>\n",
       "    <tr style=\"text-align: right;\">\n",
       "      <th></th>\n",
       "      <th>Vacancy Name</th>\n",
       "      <th>Link</th>\n",
       "      <th>Min_salary</th>\n",
       "      <th>Max_salary</th>\n",
       "      <th>Currancy</th>\n",
       "      <th>Source</th>\n",
       "    </tr>\n",
       "  </thead>\n",
       "  <tbody>\n",
       "    <tr>\n",
       "      <th>0</th>\n",
       "      <td>Программист Python</td>\n",
       "      <td>https://hh.ru/vacancy/36680277?query=python</td>\n",
       "      <td>160000.0</td>\n",
       "      <td>200000.0</td>\n",
       "      <td>руб</td>\n",
       "      <td>hh</td>\n",
       "    </tr>\n",
       "    <tr>\n",
       "      <th>1</th>\n",
       "      <td>Разработчик Python (Django)</td>\n",
       "      <td>https://hh.ru/vacancy/36101850?query=python</td>\n",
       "      <td>0.0</td>\n",
       "      <td>0.0</td>\n",
       "      <td>NaN</td>\n",
       "      <td>hh</td>\n",
       "    </tr>\n",
       "    <tr>\n",
       "      <th>2</th>\n",
       "      <td>Разработчик Python 2.7 (3.Х)</td>\n",
       "      <td>https://hh.ru/vacancy/36421719?query=python</td>\n",
       "      <td>250000.0</td>\n",
       "      <td>NaN</td>\n",
       "      <td>руб</td>\n",
       "      <td>hh</td>\n",
       "    </tr>\n",
       "    <tr>\n",
       "      <th>3</th>\n",
       "      <td>Программист Python</td>\n",
       "      <td>https://hh.ru/vacancy/34608956?query=python</td>\n",
       "      <td>0.0</td>\n",
       "      <td>0.0</td>\n",
       "      <td>NaN</td>\n",
       "      <td>hh</td>\n",
       "    </tr>\n",
       "    <tr>\n",
       "      <th>4</th>\n",
       "      <td>Python Developer SberDevices</td>\n",
       "      <td>https://hh.ru/vacancy/36645407?query=python</td>\n",
       "      <td>0.0</td>\n",
       "      <td>0.0</td>\n",
       "      <td>NaN</td>\n",
       "      <td>hh</td>\n",
       "    </tr>\n",
       "  </tbody>\n",
       "</table>\n",
       "</div>"
      ],
      "text/plain": [
       "                   Vacancy Name                                         Link  \\\n",
       "0            Программист Python  https://hh.ru/vacancy/36680277?query=python   \n",
       "1   Разработчик Python (Django)  https://hh.ru/vacancy/36101850?query=python   \n",
       "2  Разработчик Python 2.7 (3.Х)  https://hh.ru/vacancy/36421719?query=python   \n",
       "3            Программист Python  https://hh.ru/vacancy/34608956?query=python   \n",
       "4  Python Developer SberDevices  https://hh.ru/vacancy/36645407?query=python   \n",
       "\n",
       "   Min_salary  Max_salary Currancy Source  \n",
       "0    160000.0    200000.0      руб     hh  \n",
       "1         0.0         0.0      NaN     hh  \n",
       "2    250000.0         NaN      руб     hh  \n",
       "3         0.0         0.0      NaN     hh  \n",
       "4         0.0         0.0      NaN     hh  "
      ]
     },
     "execution_count": 32,
     "metadata": {},
     "output_type": "execute_result"
    }
   ],
   "source": [
    "df.head()"
   ]
  },
  {
   "cell_type": "code",
   "execution_count": 34,
   "metadata": {},
   "outputs": [],
   "source": [
    "df.to_csv('hh_vacancies.csv', index=False)"
   ]
  },
  {
   "cell_type": "code",
   "execution_count": null,
   "metadata": {},
   "outputs": [],
   "source": []
  }
 ],
 "metadata": {
  "kernelspec": {
   "display_name": "Python 3",
   "language": "python",
   "name": "python3"
  },
  "language_info": {
   "codemirror_mode": {
    "name": "ipython",
    "version": 3
   },
   "file_extension": ".py",
   "mimetype": "text/x-python",
   "name": "python",
   "nbconvert_exporter": "python",
   "pygments_lexer": "ipython3",
   "version": "3.7.3"
  }
 },
 "nbformat": 4,
 "nbformat_minor": 2
}
