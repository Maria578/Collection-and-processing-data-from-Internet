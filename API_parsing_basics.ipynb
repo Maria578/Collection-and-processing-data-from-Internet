{
 "cells": [
  {
   "cell_type": "markdown",
   "metadata": {},
   "source": [
    "# Задание 1\n",
    "Посмотреть документацию к API GitHub, разобраться как вывести список репозиториев для конкретного пользователя, \n",
    "сохранить JSON-вывод в файле *.json."
   ]
  },
  {
   "cell_type": "code",
   "execution_count": 37,
   "metadata": {},
   "outputs": [],
   "source": [
    "import requests\n",
    "import json\n",
    "from pprint import pprint"
   ]
  },
  {
   "cell_type": "code",
   "execution_count": 6,
   "metadata": {},
   "outputs": [],
   "source": [
    "user_name = 'Maria578'\n",
    "header = {'User-Agent': 'Mozilla/5.0 (Windows NT 10.0; Win64; x64) AppleWebKit/537.36 (KHTML, like Gecko) Chrome/80.0.3987.163 Safari/537.36'}\n",
    "link = f'https://api.github.com/users/{user_name}/repos'\n",
    "response = requests.get(link, headers=header)"
   ]
  },
  {
   "cell_type": "code",
   "execution_count": 34,
   "metadata": {},
   "outputs": [],
   "source": [
    "parsed_string = json.loads(response.text)"
   ]
  },
  {
   "cell_type": "code",
   "execution_count": 35,
   "metadata": {},
   "outputs": [],
   "source": [
    "user_repositories = []\n",
    "\n",
    "for i in range(0, len(parsed_string)):\n",
    "    user_repositories.append(parsed_string[i][\"name\"])"
   ]
  },
  {
   "cell_type": "code",
   "execution_count": 36,
   "metadata": {
    "scrolled": true
   },
   "outputs": [
    {
     "name": "stdout",
     "output_type": "stream",
     "text": [
      "-Python-Data-Science-Numpy-Matplotlib-Scikit-learn\n",
      "courses\n",
      "GeekBrains_University\n",
      "IBM-Data-Science-Capstone-Project-on-Coursera\n",
      "Java_Basics\n"
     ]
    }
   ],
   "source": [
    "print(*user_repositories, sep=\"\\n\")"
   ]
  },
  {
   "cell_type": "code",
   "execution_count": 38,
   "metadata": {},
   "outputs": [],
   "source": [
    "with open('file.json','w') as f:\n",
    "     f.write(response.text)"
   ]
  },
  {
   "cell_type": "markdown",
   "metadata": {},
   "source": [
    "# Задание 2\n",
    "Изучить список открытых API. Найти среди них любое, требующее авторизацию (любого типа). \n",
    "Выполнить запросы к нему, пройдя авторизацию. Ответ сервера записать в файл."
   ]
  },
  {
   "cell_type": "code",
   "execution_count": null,
   "metadata": {},
   "outputs": [],
   "source": [
    "# Запрос к Foursquare API, чтобы получить список пиццерий в Москве и Санкт-Петербурге"
   ]
  },
  {
   "cell_type": "code",
   "execution_count": 58,
   "metadata": {},
   "outputs": [],
   "source": [
    "CLIENT_ID = 'N25ZLNNGVAH2LZA52PCTPL3EYS05J0GQV2AVUTYJM4UPLYR0' # Foursquare ID\n",
    "CLIENT_SECRET = 'ERC5A2GJXBSPDD4WQEWNRMPPT5YTSUYNQTLXJRIBGDOQPGZM' # Foursquare Secret\n",
    "VERSION = '20200408' # Foursquare API version\n",
    "\n",
    "LIMIT = 100\n",
    "cities = ['Moscow', 'Saint-Petersburg']\n",
    "results = {}\n",
    "for city in cities:\n",
    "    url = 'https://api.foursquare.com/v2/venues/explore?&client_id={}&client_secret={}&v={}&near={}&limit={}&categoryId={}'.format(\n",
    "        CLIENT_ID, \n",
    "        CLIENT_SECRET, \n",
    "        VERSION, \n",
    "        city,\n",
    "        LIMIT,\n",
    "        \"4bf58dd8d48988d1ca941735\") # PIZZA PLACE CATEGORY ID\n",
    "    results[city] = requests.get(url)"
   ]
  },
  {
   "cell_type": "code",
   "execution_count": 62,
   "metadata": {},
   "outputs": [],
   "source": [
    "#with open('file2.json','w') as f:\n",
    "#     f.write(\"\".join(results)\n",
    "        "
   ]
  }
 ],
 "metadata": {
  "kernelspec": {
   "display_name": "Python 3",
   "language": "python",
   "name": "python3"
  },
  "language_info": {
   "codemirror_mode": {
    "name": "ipython",
    "version": 3
   },
   "file_extension": ".py",
   "mimetype": "text/x-python",
   "name": "python",
   "nbconvert_exporter": "python",
   "pygments_lexer": "ipython3",
   "version": "3.7.3"
  }
 },
 "nbformat": 4,
 "nbformat_minor": 2
}
